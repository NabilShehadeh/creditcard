{
  "cells": [
    {
      "cell_type": "markdown",
      "metadata": {},
      "source": [
        "# Credit Card Fraud Detection - Exploratory Data Analysis\n",
        "\n",
        "This notebook provides comprehensive exploratory data analysis for the credit card fraud detection system.\n",
        "\n",
        "## Table of Contents\n",
        "1. [Data Loading and Overview](#data-loading)\n",
        "2. [Data Quality Assessment](#data-quality)\n",
        "3. [Target Variable Analysis](#target-analysis)\n",
        "4. [Feature Analysis](#feature-analysis)\n",
        "5. [Correlation Analysis](#correlation-analysis)\n",
        "6. [Temporal Analysis](#temporal-analysis)\n",
        "7. [Fraud Pattern Analysis](#fraud-patterns)\n",
        "8. [Feature Engineering Insights](#feature-engineering)\n",
        "9. [Model Performance Expectations](#model-expectations)\n",
        "10. [Conclusions and Recommendations](#conclusions)\n",
        "\n"
      ]
    },
    {
      "cell_type": "code",
      "execution_count": null,
      "metadata": {},
      "outputs": [],
      "source": [
        "# Import required libraries\n",
        "import pandas as pd\n",
        "import numpy as np\n",
        "import matplotlib.pyplot as plt\n",
        "import seaborn as sns\n",
        "import plotly.express as px\n",
        "import plotly.graph_objects as go\n",
        "from plotly.subplots import make_subplots\n",
        "import warnings\n",
        "warnings.filterwarnings('ignore')\n",
        "\n",
        "# Set plotting style\n",
        "plt.style.use('seaborn-v0_8')\n",
        "sns.set_palette(\"husl\")\n",
        "\n",
        "# Import our modules\n",
        "import sys\n",
        "sys.path.append('../src')\n",
        "from data.processor import DataProcessor\n",
        "from features.engineering import FeatureEngineer\n",
        "\n",
        "print(\"Libraries imported successfully!\")\n"
      ]
    }
  ],
  "metadata": {
    "language_info": {
      "name": "python"
    }
  },
  "nbformat": 4,
  "nbformat_minor": 2
}
